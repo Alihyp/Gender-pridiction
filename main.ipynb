{
 "cells": [
  {
   "cell_type": "code",
   "execution_count": 107,
   "id": "c5fcdf83",
   "metadata": {},
   "outputs": [],
   "source": [
    "import numpy as np \n",
    "import pandas as pd\n",
    "import functools\n",
    "import time\n",
    "from names_dataset import NameDataset\n",
    "from faker import Faker"
   ]
  },
  {
   "cell_type": "markdown",
   "id": "7bf05bc0",
   "metadata": {},
   "source": [
    "# loading data"
   ]
  },
  {
   "cell_type": "code",
   "execution_count": 106,
   "id": "6ada4615",
   "metadata": {},
   "outputs": [],
   "source": [
    "fa_fake = Faker('fa')\n",
    "en_fake = Faker()"
   ]
  },
  {
   "cell_type": "code",
   "execution_count": 108,
   "id": "d8442b89",
   "metadata": {},
   "outputs": [
    {
     "name": "stdout",
     "output_type": "stream",
     "text": [
      "done\n"
     ]
    }
   ],
   "source": [
    "name_stat = NameDataset()\n",
    "print(\"done\")"
   ]
  },
  {
   "cell_type": "code",
   "execution_count": 247,
   "id": "6a2d3d36",
   "metadata": {},
   "outputs": [],
   "source": [
    "x=max(name_stat.search(\"ali\")['first_name']['gender'])"
   ]
  },
  {
   "cell_type": "code",
   "execution_count": 248,
   "id": "df904021",
   "metadata": {},
   "outputs": [
    {
     "data": {
      "text/plain": [
       "'Male'"
      ]
     },
     "execution_count": 248,
     "metadata": {},
     "output_type": "execute_result"
    }
   ],
   "source": [
    "x"
   ]
  },
  {
   "cell_type": "code",
   "execution_count": 249,
   "id": "a2f70d38",
   "metadata": {},
   "outputs": [
    {
     "data": {
      "text/plain": [
       "0.942"
      ]
     },
     "execution_count": 249,
     "metadata": {},
     "output_type": "execute_result"
    }
   ],
   "source": [
    "name_stat.search(\"ali\")['first_name']['gender'][x]"
   ]
  },
  {
   "cell_type": "code",
   "execution_count": 199,
   "id": "25172368",
   "metadata": {},
   "outputs": [],
   "source": [
    "def make_name():\n",
    "    return np.random.choice([fa_fake.name(), en_fake.name()], p=[0.5, 0.5])"
   ]
  },
  {
   "cell_type": "code",
   "execution_count": 200,
   "id": "2233652a",
   "metadata": {},
   "outputs": [],
   "source": [
    "my_dict = {\n",
    "    \"name\": [make_name() for _ in range(100)]\n",
    "}"
   ]
  },
  {
   "cell_type": "code",
   "execution_count": 201,
   "id": "eb160e99",
   "metadata": {},
   "outputs": [],
   "source": [
    "my_DataFrame = pd.DataFrame(my_dict)"
   ]
  },
  {
   "cell_type": "code",
   "execution_count": 207,
   "id": "10f4cc8d",
   "metadata": {},
   "outputs": [
    {
     "data": {
      "text/html": [
       "<div>\n",
       "<style scoped>\n",
       "    .dataframe tbody tr th:only-of-type {\n",
       "        vertical-align: middle;\n",
       "    }\n",
       "\n",
       "    .dataframe tbody tr th {\n",
       "        vertical-align: top;\n",
       "    }\n",
       "\n",
       "    .dataframe thead th {\n",
       "        text-align: right;\n",
       "    }\n",
       "</style>\n",
       "<table border=\"1\" class=\"dataframe\">\n",
       "  <thead>\n",
       "    <tr style=\"text-align: right;\">\n",
       "      <th></th>\n",
       "      <th>name</th>\n",
       "    </tr>\n",
       "  </thead>\n",
       "  <tbody>\n",
       "    <tr>\n",
       "      <th>0</th>\n",
       "      <td>Benjamin Dyer</td>\n",
       "    </tr>\n",
       "    <tr>\n",
       "      <th>1</th>\n",
       "      <td>Angela Morrison</td>\n",
       "    </tr>\n",
       "    <tr>\n",
       "      <th>2</th>\n",
       "      <td>پریا لاهوتی</td>\n",
       "    </tr>\n",
       "    <tr>\n",
       "      <th>3</th>\n",
       "      <td>Bobby Barrett</td>\n",
       "    </tr>\n",
       "    <tr>\n",
       "      <th>4</th>\n",
       "      <td>Stacy Garcia</td>\n",
       "    </tr>\n",
       "    <tr>\n",
       "      <th>...</th>\n",
       "      <td>...</td>\n",
       "    </tr>\n",
       "    <tr>\n",
       "      <th>95</th>\n",
       "      <td>سرکار خانم دکتر رها تهرانی</td>\n",
       "    </tr>\n",
       "    <tr>\n",
       "      <th>96</th>\n",
       "      <td>Andrew Khan</td>\n",
       "    </tr>\n",
       "    <tr>\n",
       "      <th>97</th>\n",
       "      <td>زينب یزدی</td>\n",
       "    </tr>\n",
       "    <tr>\n",
       "      <th>98</th>\n",
       "      <td>Eric Anderson</td>\n",
       "    </tr>\n",
       "    <tr>\n",
       "      <th>99</th>\n",
       "      <td>زينب مهدیان</td>\n",
       "    </tr>\n",
       "  </tbody>\n",
       "</table>\n",
       "<p>100 rows × 1 columns</p>\n",
       "</div>"
      ],
      "text/plain": [
       "                          name\n",
       "0                Benjamin Dyer\n",
       "1              Angela Morrison\n",
       "2                  پریا لاهوتی\n",
       "3                Bobby Barrett\n",
       "4                 Stacy Garcia\n",
       "..                         ...\n",
       "95  سرکار خانم دکتر رها تهرانی\n",
       "96                 Andrew Khan\n",
       "97                   زينب یزدی\n",
       "98               Eric Anderson\n",
       "99                 زينب مهدیان\n",
       "\n",
       "[100 rows x 1 columns]"
      ]
     },
     "execution_count": 207,
     "metadata": {},
     "output_type": "execute_result"
    }
   ],
   "source": [
    "my_DataFrame"
   ]
  },
  {
   "cell_type": "markdown",
   "id": "3e3272a2",
   "metadata": {},
   "source": [
    "# Extract first name and last name"
   ]
  },
  {
   "cell_type": "code",
   "execution_count": 209,
   "id": "0c034dcb",
   "metadata": {},
   "outputs": [],
   "source": [
    "my_DataFrame['First name'] = my_DataFrame['name'].apply(lambda firstname: firstname.split(\" \")[0])"
   ]
  },
  {
   "cell_type": "code",
   "execution_count": 215,
   "id": "36d7c546",
   "metadata": {},
   "outputs": [],
   "source": [
    "my_DataFrame['last name'] = my_DataFrame['name'].apply(lambda lastname: lastname.split(\" \")[-1])"
   ]
  },
  {
   "cell_type": "code",
   "execution_count": 216,
   "id": "5dd48e2f",
   "metadata": {},
   "outputs": [
    {
     "data": {
      "text/html": [
       "<div>\n",
       "<style scoped>\n",
       "    .dataframe tbody tr th:only-of-type {\n",
       "        vertical-align: middle;\n",
       "    }\n",
       "\n",
       "    .dataframe tbody tr th {\n",
       "        vertical-align: top;\n",
       "    }\n",
       "\n",
       "    .dataframe thead th {\n",
       "        text-align: right;\n",
       "    }\n",
       "</style>\n",
       "<table border=\"1\" class=\"dataframe\">\n",
       "  <thead>\n",
       "    <tr style=\"text-align: right;\">\n",
       "      <th></th>\n",
       "      <th>name</th>\n",
       "      <th>First name</th>\n",
       "      <th>last name</th>\n",
       "    </tr>\n",
       "  </thead>\n",
       "  <tbody>\n",
       "    <tr>\n",
       "      <th>0</th>\n",
       "      <td>Benjamin Dyer</td>\n",
       "      <td>Benjamin</td>\n",
       "      <td>Dyer</td>\n",
       "    </tr>\n",
       "    <tr>\n",
       "      <th>1</th>\n",
       "      <td>Angela Morrison</td>\n",
       "      <td>Angela</td>\n",
       "      <td>Morrison</td>\n",
       "    </tr>\n",
       "    <tr>\n",
       "      <th>2</th>\n",
       "      <td>پریا لاهوتی</td>\n",
       "      <td>پریا</td>\n",
       "      <td>لاهوتی</td>\n",
       "    </tr>\n",
       "    <tr>\n",
       "      <th>3</th>\n",
       "      <td>Bobby Barrett</td>\n",
       "      <td>Bobby</td>\n",
       "      <td>Barrett</td>\n",
       "    </tr>\n",
       "    <tr>\n",
       "      <th>4</th>\n",
       "      <td>Stacy Garcia</td>\n",
       "      <td>Stacy</td>\n",
       "      <td>Garcia</td>\n",
       "    </tr>\n",
       "    <tr>\n",
       "      <th>...</th>\n",
       "      <td>...</td>\n",
       "      <td>...</td>\n",
       "      <td>...</td>\n",
       "    </tr>\n",
       "    <tr>\n",
       "      <th>95</th>\n",
       "      <td>سرکار خانم دکتر رها تهرانی</td>\n",
       "      <td>سرکار</td>\n",
       "      <td>تهرانی</td>\n",
       "    </tr>\n",
       "    <tr>\n",
       "      <th>96</th>\n",
       "      <td>Andrew Khan</td>\n",
       "      <td>Andrew</td>\n",
       "      <td>Khan</td>\n",
       "    </tr>\n",
       "    <tr>\n",
       "      <th>97</th>\n",
       "      <td>زينب یزدی</td>\n",
       "      <td>زينب</td>\n",
       "      <td>یزدی</td>\n",
       "    </tr>\n",
       "    <tr>\n",
       "      <th>98</th>\n",
       "      <td>Eric Anderson</td>\n",
       "      <td>Eric</td>\n",
       "      <td>Anderson</td>\n",
       "    </tr>\n",
       "    <tr>\n",
       "      <th>99</th>\n",
       "      <td>زينب مهدیان</td>\n",
       "      <td>زينب</td>\n",
       "      <td>مهدیان</td>\n",
       "    </tr>\n",
       "  </tbody>\n",
       "</table>\n",
       "<p>100 rows × 3 columns</p>\n",
       "</div>"
      ],
      "text/plain": [
       "                          name First name last name\n",
       "0                Benjamin Dyer   Benjamin      Dyer\n",
       "1              Angela Morrison     Angela  Morrison\n",
       "2                  پریا لاهوتی       پریا    لاهوتی\n",
       "3                Bobby Barrett      Bobby   Barrett\n",
       "4                 Stacy Garcia      Stacy    Garcia\n",
       "..                         ...        ...       ...\n",
       "95  سرکار خانم دکتر رها تهرانی      سرکار    تهرانی\n",
       "96                 Andrew Khan     Andrew      Khan\n",
       "97                   زينب یزدی       زينب      یزدی\n",
       "98               Eric Anderson       Eric  Anderson\n",
       "99                 زينب مهدیان       زينب    مهدیان\n",
       "\n",
       "[100 rows x 3 columns]"
      ]
     },
     "execution_count": 216,
     "metadata": {},
     "output_type": "execute_result"
    }
   ],
   "source": [
    "my_DataFrame"
   ]
  },
  {
   "cell_type": "markdown",
   "id": "757b758e",
   "metadata": {},
   "source": [
    "# gender prediction"
   ]
  },
  {
   "cell_type": "code",
   "execution_count": 256,
   "id": "a759d762",
   "metadata": {},
   "outputs": [],
   "source": [
    "def nameTOgender(name, predict=False):\n",
    "    info = name_stat.search(name)['first_name']\n",
    "    if info is None:\n",
    "        return None\n",
    "    \n",
    "    gender_name = max(info['gender'], key=info['gender'].get)\n",
    "    \n",
    "    if predict:\n",
    "        return info['gender'][gender_name]\n",
    "    \n",
    "    return gender_name"
   ]
  },
  {
   "cell_type": "code",
   "execution_count": 257,
   "id": "45bda0fe",
   "metadata": {},
   "outputs": [],
   "source": [
    "my_DataFrame[\"gender\"] = my_DataFrame[\"First name\"].apply(lambda gender: nameTOgender(gender))"
   ]
  },
  {
   "cell_type": "markdown",
   "id": "e282214d",
   "metadata": {},
   "source": [
    "# Extras"
   ]
  },
  {
   "cell_type": "code",
   "execution_count": 260,
   "id": "1715500f",
   "metadata": {},
   "outputs": [],
   "source": [
    "my_DataFrame[\"gender prop\"] = my_DataFrame[\"First name\"].apply(lambda name: nameTOgender(name, predict=True))"
   ]
  },
  {
   "cell_type": "code",
   "execution_count": 261,
   "id": "dc92960d",
   "metadata": {},
   "outputs": [
    {
     "data": {
      "text/html": [
       "<div>\n",
       "<style scoped>\n",
       "    .dataframe tbody tr th:only-of-type {\n",
       "        vertical-align: middle;\n",
       "    }\n",
       "\n",
       "    .dataframe tbody tr th {\n",
       "        vertical-align: top;\n",
       "    }\n",
       "\n",
       "    .dataframe thead th {\n",
       "        text-align: right;\n",
       "    }\n",
       "</style>\n",
       "<table border=\"1\" class=\"dataframe\">\n",
       "  <thead>\n",
       "    <tr style=\"text-align: right;\">\n",
       "      <th></th>\n",
       "      <th>name</th>\n",
       "      <th>First name</th>\n",
       "      <th>last name</th>\n",
       "      <th>gender</th>\n",
       "      <th>gender prop</th>\n",
       "    </tr>\n",
       "  </thead>\n",
       "  <tbody>\n",
       "    <tr>\n",
       "      <th>0</th>\n",
       "      <td>Benjamin Dyer</td>\n",
       "      <td>Benjamin</td>\n",
       "      <td>Dyer</td>\n",
       "      <td>Male</td>\n",
       "      <td>0.992</td>\n",
       "    </tr>\n",
       "    <tr>\n",
       "      <th>1</th>\n",
       "      <td>Angela Morrison</td>\n",
       "      <td>Angela</td>\n",
       "      <td>Morrison</td>\n",
       "      <td>Female</td>\n",
       "      <td>0.992</td>\n",
       "    </tr>\n",
       "    <tr>\n",
       "      <th>2</th>\n",
       "      <td>پریا لاهوتی</td>\n",
       "      <td>پریا</td>\n",
       "      <td>لاهوتی</td>\n",
       "      <td>Female</td>\n",
       "      <td>0.985</td>\n",
       "    </tr>\n",
       "    <tr>\n",
       "      <th>3</th>\n",
       "      <td>Bobby Barrett</td>\n",
       "      <td>Bobby</td>\n",
       "      <td>Barrett</td>\n",
       "      <td>Male</td>\n",
       "      <td>0.953</td>\n",
       "    </tr>\n",
       "    <tr>\n",
       "      <th>4</th>\n",
       "      <td>Stacy Garcia</td>\n",
       "      <td>Stacy</td>\n",
       "      <td>Garcia</td>\n",
       "      <td>Female</td>\n",
       "      <td>0.925</td>\n",
       "    </tr>\n",
       "    <tr>\n",
       "      <th>...</th>\n",
       "      <td>...</td>\n",
       "      <td>...</td>\n",
       "      <td>...</td>\n",
       "      <td>...</td>\n",
       "      <td>...</td>\n",
       "    </tr>\n",
       "    <tr>\n",
       "      <th>95</th>\n",
       "      <td>سرکار خانم دکتر رها تهرانی</td>\n",
       "      <td>سرکار</td>\n",
       "      <td>تهرانی</td>\n",
       "      <td>None</td>\n",
       "      <td>NaN</td>\n",
       "    </tr>\n",
       "    <tr>\n",
       "      <th>96</th>\n",
       "      <td>Andrew Khan</td>\n",
       "      <td>Andrew</td>\n",
       "      <td>Khan</td>\n",
       "      <td>Male</td>\n",
       "      <td>0.991</td>\n",
       "    </tr>\n",
       "    <tr>\n",
       "      <th>97</th>\n",
       "      <td>زينب یزدی</td>\n",
       "      <td>زينب</td>\n",
       "      <td>یزدی</td>\n",
       "      <td>Female</td>\n",
       "      <td>0.923</td>\n",
       "    </tr>\n",
       "    <tr>\n",
       "      <th>98</th>\n",
       "      <td>Eric Anderson</td>\n",
       "      <td>Eric</td>\n",
       "      <td>Anderson</td>\n",
       "      <td>Male</td>\n",
       "      <td>0.992</td>\n",
       "    </tr>\n",
       "    <tr>\n",
       "      <th>99</th>\n",
       "      <td>زينب مهدیان</td>\n",
       "      <td>زينب</td>\n",
       "      <td>مهدیان</td>\n",
       "      <td>Female</td>\n",
       "      <td>0.923</td>\n",
       "    </tr>\n",
       "  </tbody>\n",
       "</table>\n",
       "<p>100 rows × 5 columns</p>\n",
       "</div>"
      ],
      "text/plain": [
       "                          name First name last name  gender  gender prop\n",
       "0                Benjamin Dyer   Benjamin      Dyer    Male        0.992\n",
       "1              Angela Morrison     Angela  Morrison  Female        0.992\n",
       "2                  پریا لاهوتی       پریا    لاهوتی  Female        0.985\n",
       "3                Bobby Barrett      Bobby   Barrett    Male        0.953\n",
       "4                 Stacy Garcia      Stacy    Garcia  Female        0.925\n",
       "..                         ...        ...       ...     ...          ...\n",
       "95  سرکار خانم دکتر رها تهرانی      سرکار    تهرانی    None          NaN\n",
       "96                 Andrew Khan     Andrew      Khan    Male        0.991\n",
       "97                   زينب یزدی       زينب      یزدی  Female        0.923\n",
       "98               Eric Anderson       Eric  Anderson    Male        0.992\n",
       "99                 زينب مهدیان       زينب    مهدیان  Female        0.923\n",
       "\n",
       "[100 rows x 5 columns]"
      ]
     },
     "execution_count": 261,
     "metadata": {},
     "output_type": "execute_result"
    }
   ],
   "source": [
    "my_DataFrame"
   ]
  },
  {
   "cell_type": "code",
   "execution_count": 262,
   "id": "d26b5403",
   "metadata": {},
   "outputs": [],
   "source": [
    "def name_to_country(name, predict=False):\n",
    "    info = name_stat.search(name)['first_name']\n",
    "    if info is None:\n",
    "        return None\n",
    "    \n",
    "    country_name = max(info['country'], key=info['country'].get)\n",
    "    \n",
    "    if predict:\n",
    "        return info['country'][country_name]\n",
    "    \n",
    "    return country_name\n",
    "\n",
    "\n",
    "\n",
    "\n",
    "# countrys = name_stat.search(fake_en_name)['first_name']['country']"
   ]
  },
  {
   "cell_type": "code",
   "execution_count": 267,
   "id": "bf43d4a1",
   "metadata": {},
   "outputs": [],
   "source": [
    "my_DataFrame[\"country\"] = my_DataFrame[\"First name\"].apply(lambda country: name_to_country(country))"
   ]
  },
  {
   "cell_type": "code",
   "execution_count": 268,
   "id": "df28bcc0",
   "metadata": {},
   "outputs": [],
   "source": [
    "my_DataFrame[\"country prop\"] = my_DataFrame[\"First name\"].apply(lambda name: name_to_country(name, predict=True))"
   ]
  },
  {
   "cell_type": "markdown",
   "id": "55d1e44d",
   "metadata": {},
   "source": [
    "# final product"
   ]
  },
  {
   "cell_type": "code",
   "execution_count": 270,
   "id": "6b22e828",
   "metadata": {},
   "outputs": [
    {
     "data": {
      "text/html": [
       "<div>\n",
       "<style scoped>\n",
       "    .dataframe tbody tr th:only-of-type {\n",
       "        vertical-align: middle;\n",
       "    }\n",
       "\n",
       "    .dataframe tbody tr th {\n",
       "        vertical-align: top;\n",
       "    }\n",
       "\n",
       "    .dataframe thead th {\n",
       "        text-align: right;\n",
       "    }\n",
       "</style>\n",
       "<table border=\"1\" class=\"dataframe\">\n",
       "  <thead>\n",
       "    <tr style=\"text-align: right;\">\n",
       "      <th></th>\n",
       "      <th>name</th>\n",
       "      <th>First name</th>\n",
       "      <th>last name</th>\n",
       "      <th>gender</th>\n",
       "      <th>gender prop</th>\n",
       "      <th>country</th>\n",
       "      <th>country prop</th>\n",
       "    </tr>\n",
       "  </thead>\n",
       "  <tbody>\n",
       "    <tr>\n",
       "      <th>0</th>\n",
       "      <td>Benjamin Dyer</td>\n",
       "      <td>Benjamin</td>\n",
       "      <td>Dyer</td>\n",
       "      <td>Male</td>\n",
       "      <td>0.992</td>\n",
       "      <td>France</td>\n",
       "      <td>0.345</td>\n",
       "    </tr>\n",
       "    <tr>\n",
       "      <th>1</th>\n",
       "      <td>Angela Morrison</td>\n",
       "      <td>Angela</td>\n",
       "      <td>Morrison</td>\n",
       "      <td>Female</td>\n",
       "      <td>0.992</td>\n",
       "      <td>Italy</td>\n",
       "      <td>0.506</td>\n",
       "    </tr>\n",
       "    <tr>\n",
       "      <th>2</th>\n",
       "      <td>پریا لاهوتی</td>\n",
       "      <td>پریا</td>\n",
       "      <td>لاهوتی</td>\n",
       "      <td>Female</td>\n",
       "      <td>0.985</td>\n",
       "      <td>Iran, Islamic Republic of</td>\n",
       "      <td>0.681</td>\n",
       "    </tr>\n",
       "    <tr>\n",
       "      <th>3</th>\n",
       "      <td>Bobby Barrett</td>\n",
       "      <td>Bobby</td>\n",
       "      <td>Barrett</td>\n",
       "      <td>Male</td>\n",
       "      <td>0.953</td>\n",
       "      <td>United States</td>\n",
       "      <td>0.613</td>\n",
       "    </tr>\n",
       "    <tr>\n",
       "      <th>4</th>\n",
       "      <td>Stacy Garcia</td>\n",
       "      <td>Stacy</td>\n",
       "      <td>Garcia</td>\n",
       "      <td>Female</td>\n",
       "      <td>0.925</td>\n",
       "      <td>United States</td>\n",
       "      <td>0.694</td>\n",
       "    </tr>\n",
       "    <tr>\n",
       "      <th>...</th>\n",
       "      <td>...</td>\n",
       "      <td>...</td>\n",
       "      <td>...</td>\n",
       "      <td>...</td>\n",
       "      <td>...</td>\n",
       "      <td>...</td>\n",
       "      <td>...</td>\n",
       "    </tr>\n",
       "    <tr>\n",
       "      <th>95</th>\n",
       "      <td>سرکار خانم دکتر رها تهرانی</td>\n",
       "      <td>سرکار</td>\n",
       "      <td>تهرانی</td>\n",
       "      <td>None</td>\n",
       "      <td>NaN</td>\n",
       "      <td>None</td>\n",
       "      <td>NaN</td>\n",
       "    </tr>\n",
       "    <tr>\n",
       "      <th>96</th>\n",
       "      <td>Andrew Khan</td>\n",
       "      <td>Andrew</td>\n",
       "      <td>Khan</td>\n",
       "      <td>Male</td>\n",
       "      <td>0.991</td>\n",
       "      <td>United States</td>\n",
       "      <td>0.381</td>\n",
       "    </tr>\n",
       "    <tr>\n",
       "      <th>97</th>\n",
       "      <td>زينب یزدی</td>\n",
       "      <td>زينب</td>\n",
       "      <td>یزدی</td>\n",
       "      <td>Female</td>\n",
       "      <td>0.923</td>\n",
       "      <td>Iraq</td>\n",
       "      <td>0.474</td>\n",
       "    </tr>\n",
       "    <tr>\n",
       "      <th>98</th>\n",
       "      <td>Eric Anderson</td>\n",
       "      <td>Eric</td>\n",
       "      <td>Anderson</td>\n",
       "      <td>Male</td>\n",
       "      <td>0.992</td>\n",
       "      <td>United States</td>\n",
       "      <td>0.363</td>\n",
       "    </tr>\n",
       "    <tr>\n",
       "      <th>99</th>\n",
       "      <td>زينب مهدیان</td>\n",
       "      <td>زينب</td>\n",
       "      <td>مهدیان</td>\n",
       "      <td>Female</td>\n",
       "      <td>0.923</td>\n",
       "      <td>Iraq</td>\n",
       "      <td>0.474</td>\n",
       "    </tr>\n",
       "  </tbody>\n",
       "</table>\n",
       "<p>100 rows × 7 columns</p>\n",
       "</div>"
      ],
      "text/plain": [
       "                          name First name last name  gender  gender prop  \\\n",
       "0                Benjamin Dyer   Benjamin      Dyer    Male        0.992   \n",
       "1              Angela Morrison     Angela  Morrison  Female        0.992   \n",
       "2                  پریا لاهوتی       پریا    لاهوتی  Female        0.985   \n",
       "3                Bobby Barrett      Bobby   Barrett    Male        0.953   \n",
       "4                 Stacy Garcia      Stacy    Garcia  Female        0.925   \n",
       "..                         ...        ...       ...     ...          ...   \n",
       "95  سرکار خانم دکتر رها تهرانی      سرکار    تهرانی    None          NaN   \n",
       "96                 Andrew Khan     Andrew      Khan    Male        0.991   \n",
       "97                   زينب یزدی       زينب      یزدی  Female        0.923   \n",
       "98               Eric Anderson       Eric  Anderson    Male        0.992   \n",
       "99                 زينب مهدیان       زينب    مهدیان  Female        0.923   \n",
       "\n",
       "                      country  country prop  \n",
       "0                      France         0.345  \n",
       "1                       Italy         0.506  \n",
       "2   Iran, Islamic Republic of         0.681  \n",
       "3               United States         0.613  \n",
       "4               United States         0.694  \n",
       "..                        ...           ...  \n",
       "95                       None           NaN  \n",
       "96              United States         0.381  \n",
       "97                       Iraq         0.474  \n",
       "98              United States         0.363  \n",
       "99                       Iraq         0.474  \n",
       "\n",
       "[100 rows x 7 columns]"
      ]
     },
     "execution_count": 270,
     "metadata": {},
     "output_type": "execute_result"
    }
   ],
   "source": [
    "my_DataFrame"
   ]
  }
 ],
 "metadata": {
  "kernelspec": {
   "display_name": "Python 3 (ipykernel)",
   "language": "python",
   "name": "python3"
  },
  "language_info": {
   "codemirror_mode": {
    "name": "ipython",
    "version": 3
   },
   "file_extension": ".py",
   "mimetype": "text/x-python",
   "name": "python",
   "nbconvert_exporter": "python",
   "pygments_lexer": "ipython3",
   "version": "3.10.4"
  }
 },
 "nbformat": 4,
 "nbformat_minor": 5
}
